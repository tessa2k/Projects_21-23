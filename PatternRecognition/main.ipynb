{
 "cells": [
  {
   "cell_type": "code",
   "execution_count": 6,
   "id": "90024ce6",
   "metadata": {},
   "outputs": [],
   "source": [
    "import numpy as np\n",
    "import matplotlib.pyplot as plt\n",
    "from sklearn.decomposition import PCA\n",
    "from sklearn.preprocessing import StandardScaler\n",
    "from sklearn.utils import shuffle\n",
    "from sklearn.model_selection import train_test_split\n",
    "from sklearn.metrics import accuracy_score\n",
    "from sklearn.metrics import recall_score\n",
    "import scipy.io as sio\n",
    "import time"
   ]
  },
  {
   "cell_type": "markdown",
   "id": "9b57e566",
   "metadata": {},
   "source": [
    "## Feature Visualization\n",
    "The feature visualization code is in the \"feature_visualiztion_code\" folder"
   ]
  },
  {
   "cell_type": "markdown",
   "id": "a3d80986",
   "metadata": {},
   "source": [
    "## Data preprocessing"
   ]
  },
  {
   "cell_type": "code",
   "execution_count": 7,
   "id": "c6a1ae63",
   "metadata": {},
   "outputs": [],
   "source": [
    "# Data processing\n",
    "#Read data\n",
    "labels = sio.loadmat('./Salinas_gt.mat')['salinas_gt']\n",
    "features = sio.loadmat( './Salinas_corrected.mat')['salinas_corrected']\n",
    "\n",
    "#reshape the matrix\n",
    "labels= np.reshape(labels,(512*217,1))\n",
    "features= np.reshape(features,(512*217,204))\n",
    "\n",
    "#Dlete the background points\n",
    "X = np.delete(features, np.where(labels == 0), axis = 0)\n",
    "y = np.delete(labels, np.where(labels == 0),axis = 0)\n",
    "\n",
    "#PCA reduces dimensions\n",
    "X_scaler = StandardScaler()\n",
    "X = X_scaler.fit_transform(X)\n",
    "pca = PCA(n_components=15)\n",
    "pca.fit(X)\n",
    "X = pca.transform(X)\n",
    "\n",
    "X_shuffled, y_shuffled = shuffle(X, y)\n",
    "X_train, X_test, y_train, y_test = train_test_split(X_shuffled, y_shuffled, test_size=0.2, random_state=42)\n",
    "\n",
    "# Save the data for consistency\n",
    "X_dict = {\"X\": X}\n",
    "y_dict = {\"y\": y}\n",
    "X_train_dict = {\"X_train\": X_train}\n",
    "y_train_dict = {\"y_train\": y_train}\n",
    "X_test_dict = {\"X_test\": X_test}\n",
    "y_test_dict = {\"y_test\": y_test}\n",
    "\n",
    "sio.savemat(\"./data/X.mat\", X_dict)\n",
    "sio.savemat(\"./data/y.mat\",y_dict)\n",
    "sio.savemat(\"./data/X_train.mat\", X_train_dict)\n",
    "sio.savemat(\"./data/y_train.mat\", y_train_dict)\n",
    "sio.savemat(\"./data/X_test.mat\", X_test_dict)\n",
    "sio.savemat(\"./data/y_test.mat\", y_test_dict)"
   ]
  },
  {
   "cell_type": "markdown",
   "id": "bb6ea11a",
   "metadata": {},
   "source": [
    "### Read data"
   ]
  },
  {
   "cell_type": "code",
   "execution_count": 8,
   "id": "51238580",
   "metadata": {},
   "outputs": [],
   "source": [
    "X_train= sio.loadmat('./data/X_train.mat')['X_train']\n",
    "y_train= sio.loadmat('./data/y_train.mat')['y_train']\n",
    "X_test= sio.loadmat('./data/X_test.mat')['X_test']\n",
    "y_test= sio.loadmat('./data/y_test.mat')['y_test']\n",
    "X = sio.loadmat(\"./data/X.mat\")[\"X\"]\n",
    "y = sio.loadmat(\"./data/y.mat\")[\"y\"]"
   ]
  },
  {
   "cell_type": "code",
   "execution_count": null,
   "id": "5ac383aa",
   "metadata": {},
   "outputs": [],
   "source": []
  },
  {
   "cell_type": "markdown",
   "id": "765c3b1f",
   "metadata": {},
   "source": [
    "## 1. Naive_Bayes"
   ]
  },
  {
   "cell_type": "code",
   "execution_count": 9,
   "id": "4528a213",
   "metadata": {},
   "outputs": [
    {
     "name": "stdout",
     "output_type": "stream",
     "text": [
      "Naive bayes train time:  0.09256315231323242\n",
      "Naive bayes test time:  0.03394508361816406\n",
      "Naive bayes accuracy:\n",
      "0.8759467947533716\n",
      "The predict labels are:\n",
      "[ 6 10 10 ...  9  2  8]\n"
     ]
    }
   ],
   "source": [
    "# test get_class_info\n",
    "from naive_bayes.naive_bayes import *\n",
    "\n",
    "class_info = get_class_info(X_train, y_train)\n",
    "\n",
    "start_time = time.time()\n",
    "class_info = get_class_info(X_train,y_train)\n",
    "end_time =  time.time()\n",
    "train_time= end_time-start_time\n",
    "print(\"Naive bayes train time: \",train_time)\n",
    "\n",
    "start_time = time.time()\n",
    "test_result = predict(class_info, X_test,y_train)\n",
    "end_time = time.time()\n",
    "test_time= end_time-start_time\n",
    "print(\"Naive bayes test time: \",test_time)\n",
    "\n",
    "\n",
    "test_accuracy = accuracy_score(y_test, test_result)\n",
    "test_recall = recall_score\n",
    "print(\"Naive bayes accuracy:\")\n",
    "print(test_accuracy)\n",
    "print(\"The predict labels are:\")\n",
    "print(test_result)"
   ]
  },
  {
   "cell_type": "markdown",
   "id": "e69233b5",
   "metadata": {},
   "source": [
    "## 2. SVM"
   ]
  },
  {
   "cell_type": "code",
   "execution_count": 51,
   "id": "6fbc7392",
   "metadata": {},
   "outputs": [],
   "source": [
    "from sklearn import svm"
   ]
  },
  {
   "cell_type": "code",
   "execution_count": null,
   "id": "97131b14",
   "metadata": {},
   "outputs": [
    {
     "name": "stderr",
     "output_type": "stream",
     "text": [
      "D:\\Anaconda3\\lib\\site-packages\\sklearn\\utils\\validation.py:63: DataConversionWarning: A column-vector y was passed when a 1d array was expected. Please change the shape of y to (n_samples, ), for example using ravel().\n",
      "  return f(*args, **kwargs)\n"
     ]
    }
   ],
   "source": [
    "model = svm.SVC(C=10, kernel='rbf')\n",
    "model.fit(X_train, y_train)\n",
    "predictions = model.predict(X_test)"
   ]
  },
  {
   "cell_type": "markdown",
   "id": "d1ec15f5",
   "metadata": {},
   "source": [
    "## 3. KNN"
   ]
  },
  {
   "cell_type": "code",
   "execution_count": 23,
   "id": "32b05a1f",
   "metadata": {},
   "outputs": [],
   "source": [
    "from knn.knn import *\n",
    "\n",
    "knn_prediction = KNN_KDTree(X_train, X_test, y_train, 7)"
   ]
  },
  {
   "cell_type": "markdown",
   "id": "16dc57e0",
   "metadata": {},
   "source": [
    "## 4. Random Forest"
   ]
  },
  {
   "cell_type": "code",
   "execution_count": 10,
   "id": "e41619c3",
   "metadata": {},
   "outputs": [],
   "source": [
    "from random_forest.random_forest import *\n",
    "y_train = y_train.reshape(-1)"
   ]
  },
  {
   "cell_type": "code",
   "execution_count": 11,
   "id": "6ccdd20a",
   "metadata": {},
   "outputs": [
    {
     "name": "stdout",
     "output_type": "stream",
     "text": [
      "Trees: 0 started.\n",
      "Trees: 0 finished.\n",
      "\n",
      "Trees: 1 started.\n",
      "Trees: 1 finished.\n",
      "\n",
      "Trees: 2 started.\n",
      "Trees: 2 finished.\n",
      "\n",
      "Trees: 3 started.\n",
      "Trees: 3 finished.\n",
      "\n",
      "Trees: 4 started.\n",
      "Trees: 4 finished.\n",
      "\n",
      "Trees: 5 started.\n",
      "Trees: 5 finished.\n",
      "\n",
      "Trees: 6 started.\n",
      "Trees: 6 finished.\n",
      "\n",
      "Trees: 7 started.\n",
      "Trees: 7 finished.\n",
      "\n",
      "Trees: 8 started.\n",
      "Trees: 8 finished.\n",
      "\n",
      "Trees: 9 started.\n",
      "Trees: 9 finished.\n",
      "\n"
     ]
    }
   ],
   "source": [
    "rf = RandomForest(10, 5, 4, criterion='gini')\n",
    "rf.fit(X_train[:8000], y_train[:8000])\n",
    "rf_predictions = rf.predict(X_test)\n"
   ]
  },
  {
   "cell_type": "code",
   "execution_count": 12,
   "id": "07e302c7",
   "metadata": {},
   "outputs": [
    {
     "name": "stdout",
     "output_type": "stream",
     "text": [
      "Random Forest test time: 0.39216184616088867\n",
      "Random Forest accuracy: 0.7997413633844449\n"
     ]
    }
   ],
   "source": [
    "start_time = time.time()\n",
    "test_result = rf.predict(X_test)\n",
    "end_time = time.time()\n",
    "test_time = end_time - start_time\n",
    "print(\"Random Forest test time:\",test_time)\n",
    "\n",
    "test_accuracy = accuracy_score(y_test, test_result)\n",
    "print(\"Random Forest accuracy:\", test_accuracy)\n"
   ]
  },
  {
   "cell_type": "markdown",
   "id": "f17990df",
   "metadata": {},
   "source": [
    "## Classification Map code\n",
    "An example of Naive Bayes model, other models use the same code to load the predict image"
   ]
  },
  {
   "cell_type": "code",
   "execution_count": 10,
   "id": "cea94920",
   "metadata": {},
   "outputs": [],
   "source": [
    "result = predict(class_info, X,y_train) ## get the prediction result by Bayes classifier\n",
    "# uncomment to run\n",
    "# result = KNN_KDTree(X_train, X, y_train, 7)\n",
    "# result = rf.predict(X)\n",
    "# result = model.predict(X)\n",
    "n = -1\n",
    "for i in range(len(labels)):\n",
    "    if (labels[i] != 0):\n",
    "        n = n+1\n",
    "        labels[i] = result[n]\n",
    "labels = labels.reshape(512,217)"
   ]
  },
  {
   "cell_type": "code",
   "execution_count": 11,
   "id": "3846f30f",
   "metadata": {},
   "outputs": [
    {
     "data": {
      "image/png": "[encoded data removed]",
      "text/plain": [
       "<Figure size 432x288 with 2 Axes>"
      ]
     },
     "metadata": {
      "needs_background": "light"
     },
     "output_type": "display_data"
    }
   ],
   "source": [
    "NUM_CLASSES = 16\n",
    "GROUND_TRUTH = ['Background', 'Brocoli_green_weeds_1', 'Brocoli_green_weeds_2', 'Fallow', 'Fallow_rough_plow',\n",
    "                        'Fallow_smooth', 'Stubble', 'Celery', 'Grapes_untrained', 'Soil_vinyard_develop',\n",
    "                        'Corn_senesced_green_weeds', 'Lettuce_romaine_4wk', 'Lettuce_romaine_5wk',\n",
    "                        'Lettuce_romaine_6wk', 'Lettuce_romaine_7wk', 'Vinyard_untrained', 'Vinyard_vertical_trellis']\n",
    "def display_class(data, title=''):\n",
    "    # this function is from \"LEt_SNE_ICASSP2020.ipynb\" in \"https://github.com/meghshukla/LEt-SNE\"\n",
    "    '''\n",
    "    NUMPY\n",
    "    Displays Classification Map\n",
    "    :param data: 2D Numpy array containing pixel wise labels\n",
    "    :return: None\n",
    "    '''\n",
    "    fig, ax = plt.subplots()\n",
    "\n",
    "    plt.imshow(data, cmap=plt.cm.get_cmap('gist_ncar_r', NUM_CLASSES + 1))\n",
    "    plt.title('Classification Map: ' + title)\n",
    "    plt.setp(ax, xticks=[], yticks=[])\n",
    "    cbar = plt.colorbar(label='Classes', boundaries=(np.arange(NUM_CLASSES + 2) - 0.5))\n",
    "    cbar.set_ticks(np.arange(NUM_CLASSES + 1))\n",
    "    cbar.set_ticklabels(GROUND_TRUTH)\n",
    "\n",
    "    return None\n",
    "display_class(labels, 'Prediction')"
   ]
  },
  {
   "cell_type": "markdown",
   "id": "11573225",
   "metadata": {},
   "source": [
    "## Cross validation code"
   ]
  },
  {
   "cell_type": "code",
   "execution_count": 12,
   "id": "fb7ac860",
   "metadata": {},
   "outputs": [
    {
     "name": "stdout",
     "output_type": "stream",
     "text": [
      "The average accuracy gained by k-fold cross validation is:  0.8813390234439948\n"
     ]
    }
   ],
   "source": [
    "X_shuffled, y_shuffled = shuffle(X, y)\n",
    "k = 3\n",
    "num_validation_samples = len(X_shuffled) // k\n",
    "\n",
    "\n",
    "validation_scores = []\n",
    "for fold in range(k):\n",
    "    test_data_X = X_shuffled[num_validation_samples*fold:num_validation_samples*(fold+1)]\n",
    "    training_data_X = np.append(X_shuffled[:num_validation_samples*fold,:], X_shuffled[num_validation_samples*(fold+1):,:], axis=0)\n",
    "    \n",
    "    test_data_y = y_shuffled[num_validation_samples*fold:num_validation_samples*(fold+1)]\n",
    "    training_data_y = np.append(y_shuffled[:num_validation_samples*fold,:], y_shuffled[num_validation_samples*(fold+1):,:], axis=0)\n",
    "\n",
    "    # Naive Bayes\n",
    "    class_info = get_class_info(training_data_X,training_data_y)\n",
    "    Bayes_predictions = predict(class_info, test_data_X, test_data_y)    \n",
    "    validation_score = accuracy_score(test_data_y, Bayes_predictions)\n",
    "    \n",
    "    \n",
    "#     uncomment to run\n",
    "#     # SVM\n",
    "#     model = svm.SVC()\n",
    "#     model.fit(training_data_X,training_data_y)\n",
    "#     SVM_predictions = model.predict(test_data_X)\n",
    "#     validation_score = accuracy_score(test_data_y, SVM_predictions)\n",
    "     \n",
    "#     uncomment to run\n",
    "#     # KNN\n",
    "#     KNN_predictions = KNN_KDTree(training_data_X, test_data_X, training_data_y, 10)\n",
    "#     validation_score = accuracy_score(test_data_y, KNN_predictions)\n",
    "    \n",
    "#     uncomment to run\n",
    "#     # Random Forest\n",
    "#     rf = RandomForest(10, 5, 4, criterion='gini')\n",
    "#     training_data_y = training_data_y.reshape(-1)\n",
    "#     rf.fit(training_data_X, training_data_y)\n",
    "#     RandomForest_predictions = rf.predict(test_data_X)\n",
    "#     validation_score = accuracy_score(test_data_y, RandomForest_predictions)\n",
    "\n",
    "\n",
    "    validation_scores.append(validation_score)\n",
    "    \n",
    "validation_score = np.average(validation_scores)\n",
    "print(\"The average accuracy gained by k-fold cross validation is: \", validation_score)"
   ]
  },
  {
   "cell_type": "code",
   "execution_count": null,
   "id": "b10d2384",
   "metadata": {},
   "outputs": [],
   "source": []
  }
 ],
 "metadata": {
  "kernelspec": {
   "display_name": "Python 3.8.2 64-bit",
   "language": "python",
   "name": "python3"
  },
  "language_info": {
   "codemirror_mode": {
    "name": "ipython",
    "version": 3
   },
   "file_extension": ".py",
   "mimetype": "text/x-python",
   "name": "python",
   "nbconvert_exporter": "python",
   "pygments_lexer": "ipython3",
   "version": "3.8.2"
  },
  "vscode": {
   "interpreter": {
    "hash": "31f2aee4e71d21fbe5cf8b01ff0e069b9275f58929596ceb00d14d90e3e16cd6"
   }
  }
 },
 "nbformat": 4,
 "nbformat_minor": 5
}
